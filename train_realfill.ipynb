{
 "cells": [
  {
   "cell_type": "markdown",
   "metadata": {
    "colab_type": "text",
    "id": "view-in-github"
   },
   "source": [
    "<a href=\"https://colab.research.google.com/github/eric15342335/realfill/blob/main/train_realfill.ipynb\" target=\"_parent\"><img src=\"https://colab.research.google.com/assets/colab-badge.svg\" alt=\"Open In Colab\"/></a>"
   ]
  },
  {
   "cell_type": "code",
   "execution_count": null,
   "metadata": {
    "id": "7M37t-cRkNDf"
   },
   "outputs": [],
   "source": [
    "!git clone https://github.com/eric15342335/realfill\n",
    "%cd realfill"
   ]
  },
  {
   "cell_type": "code",
   "execution_count": null,
   "metadata": {
    "id": "vmLsetScrhad"
   },
   "outputs": [],
   "source": [
    "!curl -L https://github.com/eric15342335/realfill/releases/download/dataset/realfill_data_release_full.zip -o realfill_data_release_full.zip\n",
    "!unzip -q realfill_data_release_full.zip"
   ]
  },
  {
   "cell_type": "code",
   "execution_count": null,
   "metadata": {
    "id": "rXUagDd5A69z"
   },
   "outputs": [],
   "source": [
    "!curl -L https://github.com/eric15342335/realfill/releases/download/dataset/jensen_images.zip -o jensen_images.zip\n",
    "!unzip -q jensen_images.zip"
   ]
  },
  {
   "cell_type": "code",
   "execution_count": null,
   "metadata": {
    "id": "wTXUPQrrtMZF"
   },
   "outputs": [],
   "source": [
    "%pwd\n",
    "%ls -lh"
   ]
  },
  {
   "cell_type": "code",
   "execution_count": null,
   "metadata": {
    "id": "8hcWLJk3kq3i"
   },
   "outputs": [],
   "source": [
    "!uv pip install -U -r requirements.txt --no-progress"
   ]
  },
  {
   "cell_type": "code",
   "execution_count": null,
   "metadata": {
    "id": "XYgiy8a9k5yA"
   },
   "outputs": [],
   "source": [
    "from accelerate.utils import write_basic_config\n",
    "write_basic_config()"
   ]
  },
  {
   "cell_type": "code",
   "execution_count": null,
   "metadata": {
    "id": "HaqFewZMrhae"
   },
   "outputs": [],
   "source": [
    "import os\n",
    "from pathlib import Path\n",
    "\n",
    "# --- Configuration Toggles ---\n",
    "USE_DRIVE_STORAGE = True       # True: Use Google Drive; False: Use local Colab storage\n",
    "USE_FP32 = False               # True: Use FP32 precision; False: Use FP16 (mixed)\n",
    "USE_GENERATED_REF_IMAGE = True # True: Supplement refs using prior results via LoFTR script\n",
    "TARGET_TOTAL_REF_COUNT = 5     # Desired final number of reference images\n",
    "\n",
    "# --- Base Environment Setup ---\n",
    "DRIVE_BASE_DIR = \"/content/drive/MyDrive/RealFill\" # Base path on Google Drive\n",
    "\n",
    "# --- Dataset and Model Info ---\n",
    "# Possible values: realfill_data_release_full, jensen_images, your_custom_dataset\n",
    "os.environ[\"DATASET\"] = \"realfill_data_release_full\"\n",
    "os.environ[\"MODEL_NAME\"] = \"stabilityai/stable-diffusion-2-inpainting\"\n",
    "# Possible values: RealBench, Qualitative, Custom\n",
    "os.environ[\"BENCHMARK\"] = \"RealBench\"\n",
    "os.environ[\"DATASET_NUMBER\"] = \"22\" # Important: Set your dataset number\n",
    "\n",
    "# --- Path to the LoFTR script ---\n",
    "# Assumes loftr_ranking.py is in the current working directory of the notebook\n",
    "LOFTR_SCRIPT_PATH = \"loftr_ranking.py\" # Adjust if it's in a subfolder. loftr_ranking.py\n",
    "\n",
    "print(\"Configuration Loaded.\")\n",
    "\n",
    "# --- Determine Base Output Prefix (Drive or Local) ---\n",
    "base_output_prefix = \"\"\n",
    "if USE_DRIVE_STORAGE:\n",
    "    try:\n",
    "        from google.colab import drive\n",
    "        drive.mount('/content/drive', force_remount=True)\n",
    "        print(\"Google Drive mounted.\")\n",
    "        base_output_prefix = f'{DRIVE_BASE_DIR}/{os.environ[\"BENCHMARK\"]}-{os.environ[\"DATASET_NUMBER\"]}'\n",
    "        Path(DRIVE_BASE_DIR).mkdir(parents=True, exist_ok=True)\n",
    "    except Exception as e:\n",
    "        print(f\"WARNING: Drive mount/access failed ({e}). Falling back to local.\")\n",
    "        USE_DRIVE_STORAGE = False\n",
    "        base_output_prefix = f'{os.environ[\"BENCHMARK\"]}-{os.environ[\"DATASET_NUMBER\"]}'\n",
    "else:\n",
    "    base_output_prefix = f'{os.environ[\"BENCHMARK\"]}-{os.environ[\"DATASET_NUMBER\"]}'\n",
    "    print(\"Using local Colab storage.\")\n",
    "\n",
    "# --- Construct Suffixes ---\n",
    "# Suffix for *this* run's output if supplementing refs\n",
    "generated_suffix = \"-generated\" if USE_GENERATED_REF_IMAGE else \"\"\n",
    "# Suffix based on precision setting\n",
    "precision_suffix = \"-fp32\" if USE_FP32 else \"\"\n",
    "\n",
    "# --- Define Current Run's Output Paths ---\n",
    "OUTPUT_DIR = f'{base_output_prefix}-model{generated_suffix}{precision_suffix}'\n",
    "OUTPUT_IMG_DIR = f'{base_output_prefix}-results{generated_suffix}{precision_suffix}'\n",
    "os.environ[\"OUTPUT_DIR\"] = OUTPUT_DIR     # For potential use by training scripts\n",
    "os.environ[\"OUTPUT_IMG_DIR\"] = OUTPUT_IMG_DIR # For potential use by training scripts\n",
    "\n",
    "# --- Define Dataset/Input Paths ---\n",
    "# Uses Pathlib for easier handling\n",
    "TRAIN_DIR = Path(f'{os.environ[\"DATASET\"]}/{os.environ[\"BENCHMARK\"]}/{os.environ[\"DATASET_NUMBER\"]}')\n",
    "VAL_IMG = TRAIN_DIR / \"target/target.png\"\n",
    "VAL_MASK = TRAIN_DIR / \"target/mask.png\"\n",
    "# REF_DIR is the TARGET directory for the LoFTR script's copy operation\n",
    "REF_DIR = TRAIN_DIR / \"ref\"\n",
    "\n",
    "# Set corresponding environment variables if other scripts need them\n",
    "os.environ[\"TRAIN_DIR\"] = str(TRAIN_DIR)\n",
    "os.environ[\"VAL_IMG\"] = str(VAL_IMG)\n",
    "os.environ[\"VAL_MASK\"] = str(VAL_MASK)\n",
    "\n",
    "# --- Define SOURCE Directory for Candidate Images (Input for LoFTR script) ---\n",
    "# This is the results dir from the *previous* (non-generated) run\n",
    "SOURCE_RESULTS_DIR_FOR_COPY = f'{base_output_prefix}-results{precision_suffix}'\n",
    "\n",
    "# --- Create Necessary Directories ---\n",
    "# Ensure dataset, reference, and output directories exist\n",
    "TRAIN_DIR.mkdir(parents=True, exist_ok=True)\n",
    "REF_DIR.mkdir(parents=True, exist_ok=True) # MUST exist before script runs\n",
    "Path(OUTPUT_DIR).mkdir(parents=True, exist_ok=True)\n",
    "Path(OUTPUT_IMG_DIR).mkdir(parents=True, exist_ok=True)\n",
    "# Note: The script itself checks if SOURCE_RESULTS_DIR_FOR_COPY exists\n",
    "\n",
    "print(\"\\n--- Paths Initialized ---\")\n",
    "print(f\"Model Output Dir: {OUTPUT_DIR}\")\n",
    "print(f\"Results Output Dir: {OUTPUT_IMG_DIR}\")\n",
    "print(f\"Reference Dir (Target): {REF_DIR}\")\n",
    "print(f\"Source Candidates Dir: {SOURCE_RESULTS_DIR_FOR_COPY}\")\n",
    "\n",
    "# Conditional Reference Image Supplementing\n",
    "# If `USE_GENERATED_REF_IMAGE` is True, executes `loftr_ranking.py` to rank candidates\n",
    "# from the source directory against existing references and copy the best ones.\n",
    "\n",
    "if USE_GENERATED_REF_IMAGE:\n",
    "    print(\"\\n\" + \"=\"*40)\n",
    "    print(f\"Calling LoFTR Ranking Script: {LOFTR_SCRIPT_PATH}\")\n",
    "    print(\"=\"*40)\n",
    "\n",
    "    # Basic checks before executing the external script\n",
    "    if not os.path.exists(LOFTR_SCRIPT_PATH):\n",
    "        print(f\"ERROR: Cannot execute script. {LOFTR_SCRIPT_PATH} not found!\")\n",
    "        print(\"Please ensure the script is in the current directory or fix the path.\")\n",
    "    elif not REF_DIR.is_dir():\n",
    "         print(f\"ERROR: Target Reference directory '{REF_DIR}' does not exist. Skipping script.\")\n",
    "    else:\n",
    "        # Construct the command arguments safely using quotes\n",
    "        command = f\"\"\"python3 \"{LOFTR_SCRIPT_PATH}\" \\\n",
    "        --source-dir \"{SOURCE_RESULTS_DIR_FOR_COPY}\" \\\n",
    "        --ref-dir \"{str(REF_DIR)}\" \\\n",
    "        --target-count {TARGET_TOTAL_REF_COUNT}\n",
    "        \"\"\"\n",
    "        # Optional: Add arguments like --conf-threshold 0.8 if needed\n",
    "        # command += \" --conf-threshold 0.8\"\n",
    "\n",
    "        print(f\"Executing command:\\n{command}\\n\")\n",
    "        # Execute the command - output will be shown below\n",
    "        !{command}\n",
    "        print(\"\\nLoFTR Ranking Script Execution Finished.\")\n",
    "\n",
    "    print(\"=\"*40)\n",
    "\n",
    "else:\n",
    "    print(\"\\nSkipping reference image supplementing (USE_GENERATED_REF_IMAGE is False).\")\n",
    "\n",
    "\n",
    "# Final Environment Setup and Summary\n",
    "# Sets the precision argument and prints a summary of the final configuration.\n",
    "\n",
    "# Set precision argument for potential use in training scripts\n",
    "os.environ['PRECISION_ARG'] = '--mixed_precision=fp16' if not USE_FP32 else ''\n",
    "\n",
    "# --- Print Final Summary ---\n",
    "print(\"\\n\" + \"*\"*40)\n",
    "print(\"Final Configuration Summary\")\n",
    "print(\"*\"*40)\n",
    "print(f\"Storage Location: {'Google Drive' if USE_DRIVE_STORAGE else 'Local Colab'}\")\n",
    "print(f\"Supplement References Script Called: {USE_GENERATED_REF_IMAGE}\")\n",
    "print(f\"Precision: {'FP16 (Mixed)' if not USE_FP32 else 'FP32'}\")\n",
    "print(f\"Precision Script Arg: {os.environ.get('PRECISION_ARG', '(Default)')}\")\n",
    "print(\"-\" * 10)\n",
    "print(f\"Model Output Dir: {os.environ['OUTPUT_DIR']}\")\n",
    "print(f\"Results Output Dir: {os.environ['OUTPUT_IMG_DIR']}\")\n",
    "print(\"-\" * 10)\n",
    "print(f\"Train Data Dir: {os.environ['TRAIN_DIR']}\")\n",
    "print(f\"Reference Dir (Final State): {REF_DIR} (Verify content)\") # Remind user to check\n",
    "print(f\"Validation Image: {os.environ['VAL_IMG']}\")\n",
    "print(f\"Validation Mask: {os.environ['VAL_MASK']}\")\n",
    "print(\"*\"*40)"
   ]
  },
  {
   "cell_type": "code",
   "execution_count": null,
   "metadata": {
    "id": "rQexbUktpzdp"
   },
   "outputs": [],
   "source": [
    "!accelerate launch train_realfill.py \\\n",
    "  --pretrained_model_name_or_path=$MODEL_NAME \\\n",
    "  --train_data_dir=$TRAIN_DIR \\\n",
    "  --output_dir=$OUTPUT_DIR \\\n",
    "  --resolution=512 \\\n",
    "  --train_batch_size=16 \\\n",
    "  --gradient_accumulation_steps=1 \\\n",
    "  --unet_learning_rate=2e-4 \\\n",
    "  --text_encoder_learning_rate=4e-5 \\\n",
    "  --lr_scheduler=\"constant\" \\\n",
    "  --lr_warmup_steps=100 \\\n",
    "  --max_train_steps=2000 \\\n",
    "  --lora_rank=8 \\\n",
    "  --lora_dropout=0.1 \\\n",
    "  --lora_alpha=16 \\\n",
    "  --resume_from_checkpoint=\"latest\" \\\n",
    "  --report_to tensorboard \\\n",
    "  --validation_steps 100 \\\n",
    "  --checkpointing_steps 100 \\\n",
    "  $PRECISION_ARG \\\n",
    "  --use_8bit_adam \\\n",
    "  --set_grads_to_none \\\n",
    "  --enable_xformers_memory_efficient_attention"
   ]
  },
  {
   "cell_type": "code",
   "execution_count": null,
   "metadata": {
    "id": "3m023PQGd_H1"
   },
   "outputs": [],
   "source": [
    "!accelerate launch infer.py \\\n",
    "    --model_path=$OUTPUT_DIR \\\n",
    "    --validation_image=$VAL_IMG \\\n",
    "    --validation_mask=$VAL_MASK \\\n",
    "    --output_dir=$OUTPUT_IMG_DIR"
   ]
  },
  {
   "cell_type": "code",
   "execution_count": null,
   "metadata": {
    "id": "Nm40ryltdVNF"
   },
   "outputs": [],
   "source": [
    "# Zip final inference results\n",
    "!zip -r9j $OUTPUT_IMG_DIR.zip $OUTPUT_IMG_DIR\n",
    "# Zip tensorboard logs\n",
    "!zip -r9D $OUTPUT_DIR-tensorboard.zip $OUTPUT_DIR/logs\n",
    "%ls"
   ]
  }
 ],
 "metadata": {
  "accelerator": "GPU",
  "colab": {
   "gpuType": "T4",
   "include_colab_link": true,
   "provenance": []
  },
  "kernelspec": {
   "display_name": ".venv",
   "language": "python",
   "name": "python3"
  },
  "language_info": {
   "name": "python",
   "version": "3.11.11"
  }
 },
 "nbformat": 4,
 "nbformat_minor": 0
}
