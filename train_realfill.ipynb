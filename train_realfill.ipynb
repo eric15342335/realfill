{
  "cells": [
    {
      "cell_type": "markdown",
      "metadata": {
        "id": "view-in-github",
        "colab_type": "text"
      },
      "source": [
        "<a href=\"https://colab.research.google.com/github/eric15342335/realfill/blob/main/train_realfill.ipynb\" target=\"_parent\"><img src=\"https://colab.research.google.com/assets/colab-badge.svg\" alt=\"Open In Colab\"/></a>"
      ]
    },
    {
      "cell_type": "code",
      "execution_count": null,
      "metadata": {
        "id": "7M37t-cRkNDf"
      },
      "outputs": [],
      "source": [
        "!git clone https://github.com/eric15342335/realfill\n",
        "%cd realfill"
      ]
    },
    {
      "cell_type": "code",
      "execution_count": null,
      "metadata": {
        "id": "vmLsetScrhad"
      },
      "outputs": [],
      "source": [
        "!curl -L https://github.com/eric15342335/realfill/releases/download/dataset/realfill_data_release_full.zip -o realfill_data_release_full.zip\n",
        "!unzip -q realfill_data_release_full.zip"
      ]
    },
    {
      "cell_type": "code",
      "source": [
        "!curl -L https://github.com/eric15342335/realfill/releases/download/dataset/jensen_images.zip -o jensen_images.zip\n",
        "!unzip -q jensen_images.zip"
      ],
      "metadata": {
        "id": "rXUagDd5A69z"
      },
      "execution_count": null,
      "outputs": []
    },
    {
      "cell_type": "code",
      "execution_count": null,
      "metadata": {
        "id": "wTXUPQrrtMZF"
      },
      "outputs": [],
      "source": [
        "%pwd\n",
        "%ls -lh"
      ]
    },
    {
      "cell_type": "code",
      "execution_count": null,
      "metadata": {
        "id": "8hcWLJk3kq3i"
      },
      "outputs": [],
      "source": [
        "!uv pip install -U -r requirements.txt --no-progress"
      ]
    },
    {
      "cell_type": "code",
      "execution_count": null,
      "metadata": {
        "id": "XYgiy8a9k5yA"
      },
      "outputs": [],
      "source": [
        "from accelerate.utils import write_basic_config\n",
        "write_basic_config()"
      ]
    },
    {
      "cell_type": "code",
      "execution_count": null,
      "metadata": {
        "id": "HaqFewZMrhae"
      },
      "outputs": [],
      "source": [
        "import os\n",
        "import shutil # Needed for file copying\n",
        "import glob   # Needed for finding files matching a pattern\n",
        "import re     # Needed for sorting filenames numerically\n",
        "\n",
        "# --- Configuration Toggles ---\n",
        "# Toggle switch - set to True for Google Drive storage, False for local storage\n",
        "USE_DRIVE_STORAGE = True\n",
        "# Toggle switch - set to True for FP32 training, False for FP16 (mixed precision)\n",
        "USE_FP32 = False\n",
        "# Toggle switch - set to True to use copied prior results to SUPPLEMENT reference images and adjust current paths\n",
        "USE_GENERATED_REF_IMAGE = True # Renamed flag slightly for clarity\n",
        "# Target number of TOTAL reference images after potentially adding generated ones\n",
        "TARGET_REF_IMAGE_COUNT = 5\n",
        "\n",
        "# --- Base Environment Setup ---\n",
        "# Base directory for Google Drive storage\n",
        "DRIVE_BASE_DIR = \"/content/drive/MyDrive/RealFill\"\n",
        "\n",
        "# Keep your original environment variable setup\n",
        "os.environ[\"DATASET\"] = \"realfill_data_release_full\" # realfill_data_release_full, jensen_images\n",
        "os.environ[\"MODEL_NAME\"] = \"stabilityai/stable-diffusion-2-inpainting\"\n",
        "os.environ[\"BENCHMARK\"] = \"RealBench\"  # RealBench, Qualitative, Custom\n",
        "os.environ[\"DATASET_NUMBER\"] = \"25\" # Example dataset number from log\n",
        "\n",
        "# --- Determine Base Output Prefix based on Storage ---\n",
        "base_output_prefix = \"\" # Initialize\n",
        "if USE_DRIVE_STORAGE:\n",
        "    # Use Google Drive for storage\n",
        "    try:\n",
        "        if 'google.colab' in str(get_ipython()): # More robust Colab check\n",
        "             from google.colab import drive\n",
        "             drive.mount('/content/drive', force_remount=True) # Added force_remount for convenience\n",
        "             print(\"Google Drive mounted successfully.\")\n",
        "             base_output_prefix = f'{DRIVE_BASE_DIR}/{os.environ[\"BENCHMARK\"]}-{os.environ[\"DATASET_NUMBER\"]}'\n",
        "        elif os.path.exists(DRIVE_BASE_DIR): # Check if base Drive path exists outside Colab\n",
        "             print(\"Google Drive path found, assuming mounted.\")\n",
        "             base_output_prefix = f'{DRIVE_BASE_DIR}/{os.environ[\"BENCHMARK\"]}-{os.environ[\"DATASET_NUMBER\"]}'\n",
        "        else:\n",
        "             print(f\"Warning: Google Drive path '{DRIVE_BASE_DIR}' not found. Falling back to local paths.\")\n",
        "             USE_DRIVE_STORAGE = False\n",
        "             base_output_prefix = f'{os.environ[\"BENCHMARK\"]}-{os.environ[\"DATASET_NUMBER\"]}'\n",
        "\n",
        "    except NameError: # Handle case where get_ipython is not defined (running as script)\n",
        "         if os.path.exists(DRIVE_BASE_DIR):\n",
        "             print(\"Google Drive path found, assuming mounted.\")\n",
        "             base_output_prefix = f'{DRIVE_BASE_DIR}/{os.environ[\"BENCHMARK\"]}-{os.environ[\"DATASET_NUMBER\"]}'\n",
        "         else:\n",
        "             print(f\"Warning: Google Drive path '{DRIVE_BASE_DIR}' not found. Falling back to local paths.\")\n",
        "             USE_DRIVE_STORAGE = False\n",
        "             base_output_prefix = f'{os.environ[\"BENCHMARK\"]}-{os.environ[\"DATASET_NUMBER\"]}'\n",
        "    except Exception as e:\n",
        "         print(f\"Error checking/mounting Google Drive: {e}. Falling back to local paths.\")\n",
        "         USE_DRIVE_STORAGE = False\n",
        "         base_output_prefix = f'{os.environ[\"BENCHMARK\"]}-{os.environ[\"DATASET_NUMBER\"]}'\n",
        "\n",
        "else:\n",
        "    # Use local Colab storage (or standard local)\n",
        "    base_output_prefix = f'{os.environ[\"BENCHMARK\"]}-{os.environ[\"DATASET_NUMBER\"]}'\n",
        "    print(\"Using local storage.\")\n",
        "\n",
        "# --- Construct Suffixes Conditionally ---\n",
        "# Suffix for the CURRENT RUN'S OUTPUT if using generated refs to supplement\n",
        "generated_suffix = \"-generated\" if USE_GENERATED_REF_IMAGE else \"\"\n",
        "# Suffix based on precision\n",
        "precision_suffix = \"-fp32\" if USE_FP32 else \"\" # Applies to source copy path and current output path\n",
        "\n",
        "# --- Set CURRENT Run's Output Paths with Conditional Suffixes ---\n",
        "os.environ[\"OUTPUT_DIR\"] = f'{base_output_prefix}-model{generated_suffix}{precision_suffix}'\n",
        "os.environ[\"OUTPUT_IMG_DIR\"] = f'{base_output_prefix}-results{generated_suffix}{precision_suffix}'\n",
        "\n",
        "# --- Set Dataset/Input Paths ---\n",
        "os.environ[\"TRAIN_DIR\"] = f'{os.environ[\"DATASET\"]}/{os.environ[\"BENCHMARK\"]}/{os.environ[\"DATASET_NUMBER\"]}'\n",
        "os.environ[\"VAL_IMG\"] = f'{os.environ[\"TRAIN_DIR\"]}/target/target.png'\n",
        "os.environ[\"VAL_MASK\"] = f'{os.environ[\"TRAIN_DIR\"]}/target/mask.png'\n",
        "# Define the reference image directory path\n",
        "REF_DIR = os.path.join(os.environ[\"TRAIN_DIR\"], \"ref\")\n",
        "\n",
        "# --- Create Necessary Directories ---\n",
        "# Ensure base dataset directory structure exists before potentially copying into it\n",
        "os.makedirs(os.environ[\"TRAIN_DIR\"], exist_ok=True)\n",
        "os.makedirs(REF_DIR, exist_ok=True) # Ensure ref dir exists\n",
        "\n",
        "# Create the output directories for the CURRENT run\n",
        "os.makedirs(os.environ[\"OUTPUT_DIR\"], exist_ok=True)\n",
        "os.makedirs(os.environ[\"OUTPUT_IMG_DIR\"], exist_ok=True)\n",
        "\n",
        "\n",
        "# --- Conditional Reference Image Supplementing Logic ---\n",
        "if USE_GENERATED_REF_IMAGE:\n",
        "    print(\"-\" * 30)\n",
        "    print(\"Attempting to SUPPLEMENT reference directory with prior results images...\")\n",
        "\n",
        "    # --- Define the SOURCE directory path (without '-generated') ---\n",
        "    source_results_dir_for_copy = f'{base_output_prefix}-results{precision_suffix}'\n",
        "    target_ref_dir = REF_DIR\n",
        "\n",
        "    print(f\"Source Results Dir for Copy: {source_results_dir_for_copy}\")\n",
        "    print(f\"Target Reference Dir: {target_ref_dir}\")\n",
        "\n",
        "    if not os.path.isdir(source_results_dir_for_copy):\n",
        "        print(f\"Warning: Source results directory for copy '{source_results_dir_for_copy}' does not exist. Cannot copy images.\")\n",
        "    else:\n",
        "        # Find existing source images (e.g., 0.png, 1.png ...) in the SOURCE dir\n",
        "        source_image_files = []\n",
        "        try:\n",
        "            # Find files like '0.png', '1.png', ...\n",
        "            potential_files = [f for f in os.listdir(source_results_dir_for_copy) if re.match(r\"^\\d+\\.png$\", f)]\n",
        "            # Sort numerically\n",
        "            potential_files.sort(key=lambda x: int(os.path.splitext(x)[0]))\n",
        "            # Create full paths\n",
        "            source_image_files = [os.path.join(source_results_dir_for_copy, f) for f in potential_files]\n",
        "\n",
        "        except FileNotFoundError:\n",
        "             print(f\"Error: Tried to list files in '{source_results_dir_for_copy}', but it disappeared or access denied.\")\n",
        "             source_image_files = [] # Ensure it's empty if listing failed\n",
        "\n",
        "        if not source_image_files:\n",
        "            print(f\"Warning: No numbered PNG images (like 0.png, 1.png) found in source directory '{source_results_dir_for_copy}'.\")\n",
        "        else:\n",
        "            print(f\"Found {len(source_image_files)} potential source images in {source_results_dir_for_copy}.\")\n",
        "\n",
        "            # --- Count current images in the target ref directory ---\n",
        "            # Use glob to find ALL .png files, not just numbered ones\n",
        "            current_ref_images = glob.glob(os.path.join(target_ref_dir, '*.png'))\n",
        "            current_ref_count = len(current_ref_images)\n",
        "            print(f\"Found {current_ref_count} existing PNG images in {target_ref_dir}.\")\n",
        "\n",
        "            # --- Determine next available number index ---\n",
        "            # Find the highest number currently used in filenames like \"N.png\" in the ref dir\n",
        "            max_existing_num = -1\n",
        "            for img_path in current_ref_images:\n",
        "                basename = os.path.basename(img_path)\n",
        "                match = re.match(r\"^(\\d+)\\.png$\", basename)\n",
        "                if match:\n",
        "                    max_existing_num = max(max_existing_num, int(match.group(1)))\n",
        "\n",
        "            next_available_index = max_existing_num + 1\n",
        "            print(f\"Next available numerical index for copied files: {next_available_index}\")\n",
        "\n",
        "            # --- Calculate how many images to copy ---\n",
        "            num_needed = TARGET_REF_IMAGE_COUNT - current_ref_count\n",
        "            print(f\"Target total reference image count: {TARGET_REF_IMAGE_COUNT}\")\n",
        "\n",
        "\n",
        "            if num_needed <= 0:\n",
        "                print(\"Reference directory already has target number of images or more. No copy needed.\")\n",
        "            else:\n",
        "                print(f\"Number of additional images needed: {num_needed}\")\n",
        "                num_to_copy = min(num_needed, len(source_image_files))\n",
        "\n",
        "                if num_to_copy == 0:\n",
        "                     print(\"No source images available to copy.\")\n",
        "                elif num_to_copy < num_needed:\n",
        "                     print(f\"Warning: Only {num_to_copy} source images available, but needed {num_needed} more.\")\n",
        "\n",
        "                print(f\"Will attempt to copy {num_to_copy} images.\")\n",
        "                copied_count = 0\n",
        "                for i in range(num_to_copy):\n",
        "                    src_path = source_image_files[i]\n",
        "\n",
        "                    # --- Determine NEW filename for the destination ---\n",
        "                    dst_filename = f\"{next_available_index + i}.png\"\n",
        "                    dst_path = os.path.join(target_ref_dir, dst_filename)\n",
        "\n",
        "                    # Double-check to prevent accidental overwrite (shouldn't happen with new logic)\n",
        "                    if os.path.exists(dst_path):\n",
        "                        print(f\"Error: Calculated destination path '{dst_path}' already exists! Skipping copy. Check logic.\")\n",
        "                        continue\n",
        "\n",
        "                    try:\n",
        "                        shutil.copy2(src_path, dst_path) # copy2 preserves metadata\n",
        "                        print(f\"Copied '{src_path}' to '{dst_path}' (Added as new file)\")\n",
        "                        copied_count += 1\n",
        "                    except Exception as e:\n",
        "                        print(f\"Error copying '{src_path}' to '{dst_path}': {e}\")\n",
        "\n",
        "                print(f\"Finished copying. Added {copied_count} new images to the reference directory.\")\n",
        "                # Verify final count\n",
        "                final_ref_images = glob.glob(os.path.join(target_ref_dir, '*.png'))\n",
        "                print(f\"Reference directory now contains {len(final_ref_images)} PNG images.\")\n",
        "    print(\"-\" * 30)\n",
        "\n",
        "\n",
        "# --- Set Shell Environment Variable for Precision ---\n",
        "os.environ['PRECISION_ARG'] = '--mixed_precision=fp16' if not USE_FP32 else ''\n",
        "\n",
        "\n",
        "# --- Final Print Statements ---\n",
        "print(f\"Using {'Google Drive' if USE_DRIVE_STORAGE else 'local'} storage\")\n",
        "print(f\"USE_GENERATED_REF_IMAGE flag set to: {USE_GENERATED_REF_IMAGE}\")\n",
        "if USE_GENERATED_REF_IMAGE:\n",
        "    print(f\" -> Will attempt to ADD reference images from: {source_results_dir_for_copy}\") # Clarify source\n",
        "    print(f\" -> Copied images will be named starting from index {next_available_index if 'next_available_index' in locals() else 'N/A'}\") # Show next index\n",
        "    print(f\" -> Current run outputs will have '-generated' suffix.\")\n",
        "print(f\"Using FP32 precision: {USE_FP32}\")\n",
        "print(f\"Model output directory (current run): {os.environ['OUTPUT_DIR']}\")\n",
        "print(f\"Results output directory (current run): {os.environ['OUTPUT_IMG_DIR']}\")\n",
        "print(f\"Dataset train directory: {os.environ['TRAIN_DIR']}\")\n",
        "print(f\"Reference image directory: {REF_DIR}\")\n",
        "print(f\"Validation image: {os.environ['VAL_IMG']}\")\n",
        "print(f\"Validation mask: {os.environ['VAL_MASK']}\")\n",
        "if os.environ['PRECISION_ARG']:\n",
        "  print(f\"Precision argument for scripts: {os.environ['PRECISION_ARG']}\")\n",
        "else:\n",
        "  print(\"Precision argument for scripts: (Using default, likely FP32 if not fp16)\")"
      ]
    },
    {
      "cell_type": "code",
      "execution_count": null,
      "metadata": {
        "id": "rQexbUktpzdp"
      },
      "outputs": [],
      "source": [
        "!accelerate launch train_realfill.py \\\n",
        "  --pretrained_model_name_or_path=$MODEL_NAME \\\n",
        "  --train_data_dir=$TRAIN_DIR \\\n",
        "  --output_dir=$OUTPUT_DIR \\\n",
        "  --resolution=512 \\\n",
        "  --train_batch_size=16 \\\n",
        "  --gradient_accumulation_steps=1 \\\n",
        "  --unet_learning_rate=2e-4 \\\n",
        "  --text_encoder_learning_rate=4e-5 \\\n",
        "  --lr_scheduler=\"constant\" \\\n",
        "  --lr_warmup_steps=100 \\\n",
        "  --max_train_steps=2000 \\\n",
        "  --lora_rank=8 \\\n",
        "  --lora_dropout=0.1 \\\n",
        "  --lora_alpha=16 \\\n",
        "  --resume_from_checkpoint=\"latest\" \\\n",
        "  --report_to tensorboard \\\n",
        "  --validation_steps 100 \\\n",
        "  --checkpointing_steps 100 \\\n",
        "  $PRECISION_ARG \\\n",
        "  --use_8bit_adam \\\n",
        "  --set_grads_to_none \\\n",
        "  --enable_xformers_memory_efficient_attention"
      ]
    },
    {
      "cell_type": "code",
      "execution_count": null,
      "metadata": {
        "id": "3m023PQGd_H1"
      },
      "outputs": [],
      "source": [
        "!accelerate launch infer.py \\\n",
        "    --model_path=$OUTPUT_DIR \\\n",
        "    --validation_image=$VAL_IMG \\\n",
        "    --validation_mask=$VAL_MASK \\\n",
        "    --output_dir=$OUTPUT_IMG_DIR"
      ]
    },
    {
      "cell_type": "code",
      "execution_count": null,
      "metadata": {
        "id": "Nm40ryltdVNF"
      },
      "outputs": [],
      "source": [
        "# Zip final inference results\n",
        "!zip -r9j $OUTPUT_IMG_DIR.zip $OUTPUT_IMG_DIR\n",
        "# Zip tensorboard logs\n",
        "!zip -r9D $OUTPUT_DIR-tensorboard.zip $OUTPUT_DIR/logs\n",
        "%ls"
      ]
    }
  ],
  "metadata": {
    "accelerator": "GPU",
    "colab": {
      "gpuType": "T4",
      "provenance": [],
      "include_colab_link": true
    },
    "kernelspec": {
      "display_name": "Python 3",
      "name": "python3"
    },
    "language_info": {
      "name": "python"
    }
  },
  "nbformat": 4,
  "nbformat_minor": 0
}