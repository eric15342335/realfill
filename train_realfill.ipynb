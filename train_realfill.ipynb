{
 "cells": [
  {
   "cell_type": "code",
   "execution_count": null,
   "metadata": {
    "colab": {
     "base_uri": "https://localhost:8080/"
    },
    "id": "7M37t-cRkNDf",
    "outputId": "deba5e20-1f49-45db-b53b-096217ceafd9"
   },
   "outputs": [],
   "source": [
    "!git clone https://github.com/eric15342335/realfill\n",
    "%cd realfill"
   ]
  },
  {
   "cell_type": "code",
   "execution_count": null,
   "metadata": {},
   "outputs": [],
   "source": [
    "!curl https://github.com/eric15342335/realfill/releases/download/dataset/realfill_data_release_full.zip -o realfill_data_release_full.zip\n",
    "!unzip -q realfill_data_release_full.zip"
   ]
  },
  {
   "cell_type": "code",
   "execution_count": null,
   "metadata": {
    "colab": {
     "base_uri": "https://localhost:8080/"
    },
    "id": "wTXUPQrrtMZF",
    "outputId": "ff54182e-d63f-4289-f084-4481067b874c"
   },
   "outputs": [],
   "source": [
    "%pwd\n",
    "%ls -lh"
   ]
  },
  {
   "cell_type": "code",
   "execution_count": null,
   "metadata": {
    "colab": {
     "base_uri": "https://localhost:8080/"
    },
    "id": "8hcWLJk3kq3i",
    "outputId": "b741d90d-7448-4647-f4c1-f7518431d8de"
   },
   "outputs": [],
   "source": [
    "%pip install -U -r requirements.txt --quiet"
   ]
  },
  {
   "cell_type": "code",
   "execution_count": null,
   "metadata": {
    "colab": {
     "base_uri": "https://localhost:8080/"
    },
    "id": "XYgiy8a9k5yA",
    "outputId": "bc0c6abf-a9fc-4c12-c51e-db4c4b55ab6c"
   },
   "outputs": [],
   "source": [
    "from accelerate.utils import write_basic_config\n",
    "write_basic_config()"
   ]
  },
  {
   "cell_type": "code",
   "execution_count": null,
   "metadata": {},
   "outputs": [],
   "source": [
    "import os\n",
    "os.environ[\"DATASET\"] = \"realfill_data_release_full\"\n",
    "os.environ[\"MODEL_NAME\"] = \"stabilityai/stable-diffusion-2-inpainting\"\n",
    "os.environ[\"BENCHMARK\"] = \"RealBench\" # Replace this with \"Qualitative\"\n",
    "os.environ[\"DATASET_NUMBER\"] = \"23\"\n",
    "os.environ[\"TRAIN_DIR\"] = f'{os.environ[\"DATASET\"]}/{os.environ[\"BENCHMARK\"]}{os.environ[\"DATASET_NUMBER\"]}'\n",
    "os.environ[\"OUTPUT_DIR\"] = f'{os.environ[\"BENCHMARK\"]}{os.environ[\"DATASET_NUMBER\"]}-model'\n",
    "os.environ[\"VAL_IMG\"] = f'{os.environ[\"TRAIN_DIR\"]}/target/target.png'\n",
    "os.environ[\"VAL_MASK\"] = f'{os.environ[\"TRAIN_DIR\"]}/target/mask.png'\n",
    "os.environ[\"OUTPUT_IMG_DIR\"] = f'{os.environ[\"BENCHMARK\"]}-{os.environ[\"DATASET_NUMBER\"]}-results'"
   ]
  },
  {
   "cell_type": "code",
   "execution_count": null,
   "metadata": {
    "colab": {
     "base_uri": "https://localhost:8080/"
    },
    "id": "rQexbUktpzdp",
    "outputId": "779ff88a-02c5-4c6f-d681-fbbcb7e7b9e1"
   },
   "outputs": [],
   "source": [
    "!accelerate launch train_realfill.py \\\n",
    "  --pretrained_model_name_or_path=$MODEL_NAME \\\n",
    "  --train_data_dir=$TRAIN_DIR \\\n",
    "  --output_dir=$OUTPUT_DIR \\\n",
    "  --resolution=512 \\\n",
    "  --train_batch_size=4 \\\n",
    "  --gradient_accumulation_steps=1 \\\n",
    "  --unet_learning_rate=2e-4 \\\n",
    "  --text_encoder_learning_rate=4e-5 \\\n",
    "  --lr_scheduler=\"constant\" \\\n",
    "  --lr_warmup_steps=100 \\\n",
    "  --max_train_steps=2000 \\\n",
    "  --lora_rank=8 \\\n",
    "  --lora_dropout=0.1 \\\n",
    "  --lora_alpha=16 \\\n",
    "  --resume_from_checkpoint=\"latest\" \\\n",
    "  --report_to tensorboard \\\n",
    "  --validation_steps 100\n",
    "\n",
    "# Unused:\n",
    "# --checkpointing_steps 100 \\"
   ]
  },
  {
   "cell_type": "code",
   "execution_count": null,
   "metadata": {
    "colab": {
     "base_uri": "https://localhost:8080/"
    },
    "id": "3m023PQGd_H1",
    "outputId": "1e5a8023-d02b-4d4a-d8e0-8a1b96f147d8"
   },
   "outputs": [],
   "source": [
    "!accelerate launch infer.py \\\n",
    "    --model_path=$OUTPUT_DIR \\\n",
    "    --validation_image=$VAL_IMG \\\n",
    "    --validation_mask=$VAL_MASK \\\n",
    "    --output_dir=$OUTPUT_IMG_DIR"
   ]
  },
  {
   "cell_type": "code",
   "execution_count": null,
   "metadata": {
    "colab": {
     "base_uri": "https://localhost:8080/"
    },
    "id": "Nm40ryltdVNF",
    "outputId": "38321fd4-b0f5-4c7f-8ec6-b4550fd6f02f"
   },
   "outputs": [],
   "source": [
    "# Zip final inference results\n",
    "!zip -r $OUTPUT_IMG_DIR.zip $OUTPUT_IMG_DIR\n",
    "# Zip tensorboard logs\n",
    "!zip -r $OUTPUT_DIR.zip $OUTPUT_DIR/logs"
   ]
  }
 ],
 "metadata": {
  "accelerator": "GPU",
  "colab": {
   "gpuType": "A100",
   "machine_shape": "hm",
   "provenance": []
  },
  "kernelspec": {
   "display_name": "Python 3",
   "name": "python3"
  },
  "language_info": {
   "name": "python"
  }
 },
 "nbformat": 4,
 "nbformat_minor": 0
}
