{
 "cells": [
  {
   "cell_type": "markdown",
   "id": "3683599a",
   "metadata": {},
   "source": [
    "<a href=\"https://colab.research.google.com/github/eric15342335/realfill/blob/main/get_all_best.ipynb\" target=\"_parent\"><img src=\"https://colab.research.google.com/assets/colab-badge.svg\" alt=\"Open In Colab\"/></a>"
   ]
  },
  {
   "cell_type": "code",
   "execution_count": null,
   "id": "75ddf34f",
   "metadata": {
    "vscode": {
     "languageId": "plaintext"
    }
   },
   "outputs": [],
   "source": [
    "!git clone https://github.com/eric15342335/realfill\n",
    "%cd realfill"
   ]
  },
  {
   "cell_type": "code",
   "execution_count": null,
   "id": "379f57f1",
   "metadata": {
    "vscode": {
     "languageId": "plaintext"
    }
   },
   "outputs": [],
   "source": [
    "!curl -L https://github.com/eric15342335/realfill/releases/download/dataset/realfill_data_release_full.zip -o realfill_data_release_full.zip\n",
    "!unzip -q realfill_data_release_full.zip"
   ]
  },
  {
   "cell_type": "code",
   "execution_count": null,
   "id": "1dc28eac",
   "metadata": {
    "vscode": {
     "languageId": "plaintext"
    }
   },
   "outputs": [],
   "source": [
    "%pwd\n",
    "%ls -lh"
   ]
  },
  {
   "cell_type": "code",
   "execution_count": null,
   "id": "5e7eb26a",
   "metadata": {
    "vscode": {
     "languageId": "plaintext"
    }
   },
   "outputs": [],
   "source": [
    "from accelerate.utils import write_basic_config\n",
    "write_basic_config()"
   ]
  },
  {
   "cell_type": "code",
   "execution_count": null,
   "id": "dab7bcdf",
   "metadata": {
    "vscode": {
     "languageId": "plaintext"
    }
   },
   "outputs": [],
   "source": [
    "import os\n",
    "from pathlib import Path\n",
    "import subprocess\n",
    "import re\n",
    "\n",
    "# --- Configuration Toggles ---\n",
    "USE_DRIVE_STORAGE = True       # True: Use Google Drive; False: Use local Colab storage\n",
    "\n",
    "# --- Base Environment Setup ---\n",
    "DRIVE_BASE_DIR = \"/content/drive/MyDrive/RealFill\" # Base path on Google Drive\n",
    "\n",
    "\n",
    "def run_loftr_and_update_best():\n",
    "    \"\"\"\n",
    "    For all folders in the current directory containing \"result\" in their name,\n",
    "    runs loftr_ranking.py, gets the highest ranking image, and updates\n",
    "    \"best.txt\" in the current directory.\n",
    "    \"\"\"\n",
    "    current_dir = DRIVE_BASE_DIR\n",
    "    best_txt_path = os.path.join(current_dir, \"best.txt\")\n",
    "    results = {}\n",
    "\n",
    "    # Find folders containing \"result\"\n",
    "    result_folders = [\n",
    "        f for f in os.listdir(current_dir)\n",
    "        if os.path.isdir(os.path.join(current_dir, f)) and \"result\" in f\n",
    "    ]\n",
    "\n",
    "    if not result_folders:\n",
    "        print(\"No folders containing 'result' found in the current directory.\")\n",
    "        return\n",
    "\n",
    "    # Process each folder\n",
    "    for folder_name in result_folders:\n",
    "        folder_path = os.path.join(current_dir, folder_name)\n",
    "        script_path = os.path.join(current_dir, \"tools\", \"loftr_ranking.py\")  # Corrected path\n",
    "\n",
    "        if not os.path.exists(script_path):\n",
    "            print(f\"Error: loftr_ranking.py not found at {script_path}\")\n",
    "            return\n",
    "\n",
    "        try:\n",
    "            # Run loftr_ranking.py\n",
    "            command = ['python', script_path, folder_path]\n",
    "            process = subprocess.run(command, check=True, capture_output=True, text=True)\n",
    "            output_text = process.stdout\n",
    "\n",
    "            # Extract highest ranking image\n",
    "            match = re.search(r\"Highest ranking image: (.*)\", output_text)\n",
    "            if match:\n",
    "                highest_ranking_image_name = match.group(1).strip()\n",
    "                results[folder_name] = highest_ranking_image_name\n",
    "            else:\n",
    "                print(f\"Warning: No highest ranking image found in output for folder {folder_name}\")\n",
    "                results[folder_name] = \"No image found\"\n",
    "\n",
    "        except subprocess.CalledProcessError as e:\n",
    "            print(f\"Error running loftr_ranking.py on {folder_name}: {e}\")\n",
    "            print(f\"Command: {e.cmd}\")\n",
    "            print(f\"Output: {e.output}\")\n",
    "            results[folder_name] = \"Error running script\"\n",
    "        except FileNotFoundError:\n",
    "            print(\"Error: python command not found.  Ensure Python is installed and in your system's PATH.\")\n",
    "            results[folder_name] = \"Python not found\"\n",
    "\n",
    "    # Update best.txt\n",
    "    with open(best_txt_path, \"w\") as f:\n",
    "        f.write(\"Results:\\n\")\n",
    "        for folder, image_name in results.items():\n",
    "            f.write(f\"{folder}: {image_name}\\n\")\n",
    "    print(f\"Results written to {best_txt_path}\")\n",
    "\n",
    "\n",
    "\n",
    "if __name__ == \"__main__\":\n",
    "    run_loftr_and_update_best()\n",
    "    print(\"Done\")\n"
   ]
  }
 ],
 "metadata": {
  "language_info": {
   "name": "python"
  }
 },
 "nbformat": 4,
 "nbformat_minor": 5
}
